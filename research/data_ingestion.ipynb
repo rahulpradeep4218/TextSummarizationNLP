{
 "cells": [
  {
   "cell_type": "code",
   "execution_count": 1,
   "metadata": {},
   "outputs": [],
   "source": [
    "import os"
   ]
  },
  {
   "cell_type": "code",
   "execution_count": 2,
   "metadata": {},
   "outputs": [
    {
     "data": {
      "text/plain": [
       "'c:\\\\Projects\\\\NLP\\\\NLP End to End Krish\\\\TextSummarizationNLP\\\\research'"
      ]
     },
     "execution_count": 2,
     "metadata": {},
     "output_type": "execute_result"
    }
   ],
   "source": [
    "%pwd"
   ]
  },
  {
   "cell_type": "code",
   "execution_count": 3,
   "metadata": {},
   "outputs": [],
   "source": [
    "os.chdir(\"..\")"
   ]
  },
  {
   "cell_type": "code",
   "execution_count": 4,
   "metadata": {},
   "outputs": [
    {
     "data": {
      "text/plain": [
       "'c:\\\\Projects\\\\NLP\\\\NLP End to End Krish\\\\TextSummarizationNLP'"
      ]
     },
     "execution_count": 4,
     "metadata": {},
     "output_type": "execute_result"
    }
   ],
   "source": [
    "%pwd"
   ]
  },
  {
   "cell_type": "code",
   "execution_count": 5,
   "metadata": {},
   "outputs": [],
   "source": [
    "from dataclasses import dataclass\n",
    "from pathlib import Path\n",
    "\n",
    "@dataclass(frozen=True)\n",
    "class DataIngestionConfig:\n",
    "    root_dir: Path\n",
    "    source_URL: str\n",
    "    local_data_file: Path\n",
    "    unzip_dir: Path"
   ]
  },
  {
   "cell_type": "code",
   "execution_count": 15,
   "metadata": {},
   "outputs": [
    {
     "data": {
      "text/plain": [
       "WindowsPath('params.yaml')"
      ]
     },
     "execution_count": 15,
     "metadata": {},
     "output_type": "execute_result"
    }
   ],
   "source": [
    "from TextSummarizer.constants import *\n",
    "from TextSummarizer.utils.common import read_yaml, create_directories\n",
    "\n",
    "PARAM_FILE_PATH"
   ]
  },
  {
   "cell_type": "code",
   "execution_count": 19,
   "metadata": {},
   "outputs": [],
   "source": [
    "class ConfigurationManager:\n",
    "    def __init__(self, config_path = CONFIG_FILE_PATH, param_path = PARAM_FILE_PATH):\n",
    "        self.config = read_yaml(config_path)\n",
    "        self.params = read_yaml( param_path)\n",
    "        create_directories([self.config.artifacts_root])\n",
    "\n",
    "    def getDataIngestionConfig(self) -> DataIngestionConfig:\n",
    "        config = self.config.data_ingestion\n",
    "        create_directories([config.root_dir])\n",
    "        return DataIngestionConfig(\n",
    "            root_dir=config.root_dir, \n",
    "            source_URL=config.source_URL, \n",
    "            local_data_file=config.local_data_file, \n",
    "            unzip_dir=config.unzip_dir\n",
    "        )\n",
    "    \n",
    "    "
   ]
  },
  {
   "cell_type": "code",
   "execution_count": 9,
   "metadata": {},
   "outputs": [],
   "source": [
    "import urllib.request as request\n",
    "import zipfile\n",
    "from TextSummarizer.logging import logger\n",
    "from TextSummarizer.utils.common import get_size"
   ]
  },
  {
   "cell_type": "code",
   "execution_count": 20,
   "metadata": {},
   "outputs": [],
   "source": [
    "class DataIngestion:\n",
    "    def __init__(self, config: DataIngestionConfig):\n",
    "        self.config = config\n",
    "    \n",
    "    def download_file(self):\n",
    "        if not os.path.exists(self.config.local_data_file):\n",
    "            filename, headers = request.urlretrieve(\n",
    "                url=self.config.source_URL,\n",
    "                filename=self.config.local_data_file\n",
    "            )\n",
    "            logger.info(f\"{filename} downloaded with following info: {headers}\")\n",
    "        else:\n",
    "            logger.info(f\"File already exists with file size: {get_size(Path(self.config.local_data_file))}\")\n",
    "    \n",
    "    def extract_zip(self):\n",
    "        unzip_dir = self.config.unzip_dir\n",
    "        os.makedirs(unzip_dir, exist_ok=True)\n",
    "        with zipfile.ZipFile(file=self.config.local_data_file, mode='r') as zipRef:\n",
    "            zipRef.extractall(unzip_dir)\n",
    "        logger.info(\"Extraction of file complete\")\n",
    "\n",
    "            "
   ]
  },
  {
   "cell_type": "code",
   "execution_count": 21,
   "metadata": {},
   "outputs": [
    {
     "name": "stdout",
     "output_type": "stream",
     "text": [
      "[2024-09-22 06:16:58,804 : INFO : common : YAML File : config\\config.yaml loaded successfully]\n",
      "[2024-09-22 06:16:58,806 : INFO : common : YAML File : params.yaml loaded successfully]\n",
      "[2024-09-22 06:16:58,808 : INFO : common : Created directory : artifacts]\n",
      "[2024-09-22 06:16:58,808 : INFO : common : Created directory : artifacts/data_ingestion]\n",
      "[2024-09-22 06:17:01,192 : INFO : 1304962590 : artifacts/data_ingestion/data.zip downloaded with following info: Connection: close\n",
      "Content-Length: 4130809\n",
      "Cache-Control: max-age=300\n",
      "Content-Security-Policy: default-src 'none'; style-src 'unsafe-inline'; sandbox\n",
      "Content-Type: application/zip\n",
      "ETag: \"efd2820c306e31c8208cefe9e9f37ed63d04a45d66b220dbd54de38c009566ea\"\n",
      "Strict-Transport-Security: max-age=31536000\n",
      "X-Content-Type-Options: nosniff\n",
      "X-Frame-Options: deny\n",
      "X-XSS-Protection: 1; mode=block\n",
      "X-GitHub-Request-Id: 83A2:3C19B7:1065760:1207F98:66EFEE9D\n",
      "Accept-Ranges: bytes\n",
      "Date: Sun, 22 Sep 2024 10:17:03 GMT\n",
      "Via: 1.1 varnish\n",
      "X-Served-By: cache-ewr-kewr1740064-EWR\n",
      "X-Cache: MISS\n",
      "X-Cache-Hits: 0\n",
      "X-Timer: S1727000223.879308,VS0,VE179\n",
      "Vary: Authorization,Accept-Encoding,Origin\n",
      "Access-Control-Allow-Origin: *\n",
      "Cross-Origin-Resource-Policy: cross-origin\n",
      "X-Fastly-Request-ID: c91903f4121f51c12d1bad545af3348998b69a27\n",
      "Expires: Sun, 22 Sep 2024 10:22:03 GMT\n",
      "Source-Age: 0\n",
      "\n",
      "]\n",
      "[2024-09-22 06:17:01,288 : INFO : 1304962590 : Extraction of file complete]\n"
     ]
    }
   ],
   "source": [
    "\n",
    "try:\n",
    "    config_manager = ConfigurationManager()\n",
    "    data_ingestion = DataIngestion(config=config_manager.getDataIngestionConfig())\n",
    "    data_ingestion.download_file()\n",
    "    data_ingestion.extract_zip()\n",
    "except Exception as e:\n",
    "    raise e\n"
   ]
  },
  {
   "cell_type": "code",
   "execution_count": null,
   "metadata": {},
   "outputs": [],
   "source": []
  }
 ],
 "metadata": {
  "kernelspec": {
   "display_name": "textS",
   "language": "python",
   "name": "python3"
  },
  "language_info": {
   "codemirror_mode": {
    "name": "ipython",
    "version": 3
   },
   "file_extension": ".py",
   "mimetype": "text/x-python",
   "name": "python",
   "nbconvert_exporter": "python",
   "pygments_lexer": "ipython3",
   "version": "3.8.19"
  }
 },
 "nbformat": 4,
 "nbformat_minor": 2
}
